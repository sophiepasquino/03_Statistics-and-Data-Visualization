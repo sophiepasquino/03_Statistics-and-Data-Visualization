{
 "cells": [
  {
   "cell_type": "markdown",
   "id": "9bd53451",
   "metadata": {},
   "source": [
    "# Part 0 - Instructions and Theory\n",
    "## Hey Techie,\n",
    "Welcome to the second week of this statistics and data visualization tutorial series. This week introduces you to techniques to analyze univariate data. After auditing the [course](https://www.coursera.org/learn/understanding-visualization-data), you may find the respective materials here: https://www.coursera.org/learn/understanding-visualization-data/home/week/2.   \n",
    "As you will see, also this week is divided into three sections:\n",
    "1. You will watch videos and read materials that introduce you to essential concepts from a theoretical point of view.\n",
    "2. You will learn how to apply these concepts in Python.\n",
    "3. You can test your newly gained knowledge by solving practice tasks.   \n",
    "\n",
    "For section one, we provide you with a template that you may use to take notes. This template can be found in this notebook. For section two, you will find separate notebooks in this week's folder that you may work through. These notebooks are the same as the ones you find on Coursera. For section three, we provide you with a notebook named *Part 99_Practice*.   \n",
    "   \n",
    "*Section 1*: 135 minutes   \n",
    "*Section 2*: 64 minutes   \n",
    "*Section 3*: 30 minutes   \n",
    "*Total*: **229 minutes**   \n",
    "   \n",
    "### IMPORTANT NOTE: This week covers some concepts that are not new to you. Whenever you feel like you know a specific topic very precisely, feel free to skip it. Otherwise, these parts are a great opportunity for recapitulation.\n",
    "\n",
    "### Have fun! :-)   \n",
    "\n",
    "### Credits\n",
    "Understanding and Visualizing Data with Python, University of Michigan (Coursera), https://www.coursera.org/learn/understanding-visualization-data\n",
    "   \n",
    "<hr style=\"border:2px solid gray\"> </hr>   \n",
    "   \n",
    "## Categorical Data: Tables, Bar Charts & Pie Charts\n",
    "[Link to the video](https://www.coursera.org/learn/understanding-visualization-data/lecture/6D3OJ/categorical-data-tables-bar-charts-pie-charts)"
   ]
  },
  {
   "cell_type": "markdown",
   "id": "bb1960da",
   "metadata": {},
   "source": [
    "* Take notes here.\n",
    "    * And here.\n",
    "* ...\n",
    "* ..."
   ]
  },
  {
   "cell_type": "markdown",
   "id": "dd3c2628",
   "metadata": {},
   "source": [
    "<hr style=\"border:2px solid gray\"> </hr>   \n",
    "   \n",
    "## Quantitative Data: Histograms   \n",
    "[Link to the video](https://www.coursera.org/learn/understanding-visualization-data/lecture/5VDec/quantitative-data-histograms)"
   ]
  },
  {
   "cell_type": "markdown",
   "id": "dcb4b452",
   "metadata": {},
   "source": [
    "* Take notes here.\n",
    "    * And here.\n",
    "* ...\n",
    "* ..."
   ]
  },
  {
   "cell_type": "markdown",
   "id": "143b2942",
   "metadata": {},
   "source": [
    "<hr style=\"border:2px solid gray\"> </hr>   \n",
    "   \n",
    "## Quantitative Data: Numerical Summaries  \n",
    "[Link to the video](https://www.coursera.org/learn/understanding-visualization-data/lecture/6W6DD/quantitative-data-numerical-summaries)"
   ]
  },
  {
   "cell_type": "markdown",
   "id": "048a460c",
   "metadata": {},
   "source": [
    "* Take notes here.\n",
    "    * And here.\n",
    "* ...\n",
    "* ..."
   ]
  },
  {
   "cell_type": "markdown",
   "id": "38b0950d",
   "metadata": {},
   "source": [
    "<hr style=\"border:2px solid gray\"> </hr>   \n",
    "   \n",
    "## Standard Score (Empirical Rule)   \n",
    "[Link to the video](https://www.coursera.org/learn/understanding-visualization-data/lecture/NyfDS/standard-score-empirical-rule)"
   ]
  },
  {
   "cell_type": "markdown",
   "id": "6ea18860",
   "metadata": {},
   "source": [
    "* Take notes here.\n",
    "    * And here.\n",
    "* ...\n",
    "* ..."
   ]
  },
  {
   "cell_type": "markdown",
   "id": "53e1f480",
   "metadata": {},
   "source": [
    "<hr style=\"border:2px solid gray\"> </hr>   \n",
    "   \n",
    "## Quantitative Data: Boxplots   \n",
    "[Link to the video](https://www.coursera.org/learn/understanding-visualization-data/lecture/r0g2h/quantitative-data-boxplots)"
   ]
  },
  {
   "cell_type": "markdown",
   "id": "814d413b",
   "metadata": {},
   "source": [
    "* Take notes here.\n",
    "    * And here.\n",
    "* ...\n",
    "* ..."
   ]
  },
  {
   "cell_type": "markdown",
   "id": "7549070a",
   "metadata": {},
   "source": [
    "<hr style=\"border:2px solid gray\"> </hr>   \n",
    "   \n",
    "## Demo: Interactive Histogram & Boxplot\n",
    "[Link to the video](https://www.coursera.org/learn/understanding-visualization-data/lecture/k2H4l/demo-interactive-histogram-boxplot)"
   ]
  },
  {
   "cell_type": "markdown",
   "id": "685977d9",
   "metadata": {},
   "source": [
    "* Take notes here.\n",
    "    * And here.\n",
    "* ...\n",
    "* ..."
   ]
  },
  {
   "cell_type": "markdown",
   "id": "dd788d16",
   "metadata": {},
   "source": [
    "<hr style=\"border:2px solid gray\"> </hr>   \n",
    "   \n",
    "## What's Going on in This Graph?\n",
    "[Link to the reading](https://www.coursera.org/learn/understanding-visualization-data/supplement/rbpF4/whats-going-on-in-this-graph)"
   ]
  },
  {
   "cell_type": "markdown",
   "id": "c2cf6516",
   "metadata": {},
   "source": [
    "* Take notes here.\n",
    "    * And here.\n",
    "* ...\n",
    "* ..."
   ]
  },
  {
   "cell_type": "markdown",
   "id": "7d160a45",
   "metadata": {},
   "source": [
    "<hr style=\"border:2px solid gray\"> </hr>   \n",
    "   \n",
    "## Modern Infographics   \n",
    "[Link to the reading](https://www.coursera.org/learn/understanding-visualization-data/supplement/DqL0Z/modern-infographics)"
   ]
  },
  {
   "cell_type": "markdown",
   "id": "8a96ef2f",
   "metadata": {},
   "source": [
    "* Take notes here.\n",
    "    * And here.\n",
    "* ...\n",
    "* ..."
   ]
  },
  {
   "cell_type": "markdown",
   "id": "61d42b1c",
   "metadata": {},
   "source": [
    "<hr style=\"border:2px solid gray\"> </hr>   \n",
    "   \n",
    "## Data Management and Manipulation   \n",
    "[Link to the reading](https://www.coursera.org/learn/understanding-visualization-data/supplement/jMi0B/data-management-and-manipulation)"
   ]
  },
  {
   "cell_type": "markdown",
   "id": "0881c6cd",
   "metadata": {},
   "source": [
    "* Take notes here.\n",
    "    * And here.\n",
    "* ...\n",
    "* ..."
   ]
  }
 ],
 "metadata": {
  "kernelspec": {
   "display_name": "Python 3 (ipykernel)",
   "language": "python",
   "name": "python3"
  },
  "language_info": {
   "codemirror_mode": {
    "name": "ipython",
    "version": 3
   },
   "file_extension": ".py",
   "mimetype": "text/x-python",
   "name": "python",
   "nbconvert_exporter": "python",
   "pygments_lexer": "ipython3",
   "version": "3.8.9"
  }
 },
 "nbformat": 4,
 "nbformat_minor": 5
}
