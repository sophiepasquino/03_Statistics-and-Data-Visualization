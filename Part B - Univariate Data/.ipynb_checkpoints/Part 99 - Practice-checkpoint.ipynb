{
 "cells": [
  {
   "cell_type": "markdown",
   "id": "35e6c485",
   "metadata": {},
   "source": [
    "# Part 99 - Practice\n",
    "## Hey Techie,\n",
    "Welcome to the second week's practice notebook. In the following two practice task you can test your knowledge regarding analyzing and visualizing univariate data.   \n",
    "\n",
    "### Have fun! :-)\n",
    "\n",
    "#### Credits\n",
    "Understanding and Visualizing Data with Python, University of Michigan (Coursera), https://www.coursera.org/learn/understanding-visualization-data\n",
    "   \n",
    "<hr style=\"border:2px solid gray\"> </hr> "
   ]
  },
  {
   "cell_type": "code",
   "execution_count": null,
   "id": "17c0e330",
   "metadata": {},
   "outputs": [],
   "source": [
    "import matplotlib.pyplot as plt\n",
    "import seaborn as sns\n",
    "import pandas as pd\n",
    "import scipy.stats as stats\n",
    "import numpy as np\n",
    "\n",
    "df = pd.read_csv(\"data/nhanes_2015_2016.csv\")"
   ]
  },
  {
   "cell_type": "markdown",
   "id": "b6b62f11",
   "metadata": {},
   "source": [
    "## Task 1\n",
    "\n",
    "Relabel the marital status variable [DMDMARTL](https://wwwn.cdc.gov/Nchs/Nhanes/2015-2016/DEMO_I.htm#DMDMARTL) to have brief but informative character labels.  Then construct a frequency table of these values for all people, then for women only, and for men only.  Then construct these three frequency tables using only people whose age is between 30 and 40."
   ]
  },
  {
   "cell_type": "code",
   "execution_count": null,
   "id": "ef9453aa",
   "metadata": {},
   "outputs": [],
   "source": [
    "# START YOUR CODE HERE.\n"
   ]
  },
  {
   "cell_type": "markdown",
   "id": "326ddfb4",
   "metadata": {},
   "source": [
    "__1a.__ Briefly comment on some of the differences that you observe between the distribution of marital status between women and men, for people of all ages."
   ]
  },
  {
   "cell_type": "markdown",
   "id": "adaad174",
   "metadata": {},
   "source": [
    "*ENTER YOUR ANSWER HERE.*"
   ]
  },
  {
   "cell_type": "markdown",
   "id": "e916f2e5",
   "metadata": {},
   "source": [
    "__1b.__ Briefly comment on the differences that you observe between the distribution of marital status states for women between the overall population, and for women between the ages of 30 and 40."
   ]
  },
  {
   "cell_type": "markdown",
   "id": "3b47afbf",
   "metadata": {},
   "source": [
    "*ENTER YOUR ANSWER HERE.*"
   ]
  },
  {
   "cell_type": "markdown",
   "id": "5ae280ff",
   "metadata": {},
   "source": [
    "__1c.__ Repeat part b for the men."
   ]
  },
  {
   "cell_type": "markdown",
   "id": "796d17ec",
   "metadata": {},
   "source": [
    "*ENTER YOUR ANSWER HERE.*"
   ]
  },
  {
   "cell_type": "markdown",
   "id": "509e380d",
   "metadata": {},
   "source": [
    "<details>    \n",
    "<summary>\n",
    "    <font size=\"3\" color=\"darkgreen\"><b>Sample Solution (click to expand)</b></font>\n",
    "</summary>\n",
    "<p>\n",
    "    <code>df[\"DMDMARTL\"].replace({</code><br />\n",
    "    <code>1: \"MAR\",</code><br /> \n",
    "    <code>2: \"WID\",</code><br />\n",
    "    <code>3: \"DIV\",</code><br />\n",
    "    <code>4: \"SEP\",</code><br />\n",
    "    <code>5: \"NMAR\",</code><br />\n",
    "    <code>6: \"LWP\",</code><br />\n",
    "    <code>77: \"REF\",</code><br />\n",
    "    <code>99: \"IDK\"}, inplace = True)</code><br />\n",
    "    <code></code><br />\n",
    "    <code>all_people = df[\"DMDMARTL\"].value_counts()</code><br />\n",
    "    <code></code><br />\n",
    "    <code>filt_women = (df[\"RIAGENDR\"] == 2)</code><br />\n",
    "    <code>women_only = df.loc[filt_women, \"DMDMARTL\"].value_counts()</code><br />\n",
    "    <code></code><br />\n",
    "    <code>filt_men = (df[\"RIAGENDR\"] == 1)</code><br />\n",
    "    <code>men_only = df.loc[filt_men, \"DMDMARTL\"].value_counts()</code><br />\n",
    "    <code></code><br />\n",
    "    <code>filt_all_age = (df[\"RIDAGEYR\"] >= 30) & (df[\"RIDAGEYR\"] <= 40)</code><br />\n",
    "    <code>all_people_age = df.loc[filt_all_age, \"DMDMARTL\"].value_counts()</code><br />\n",
    "    <code></code><br />\n",
    "    <code>filt_women_age = filt_all_age & (df[\"RIAGENDR\"] == 2)</code><br />\n",
    "    <code>women_only_age = df.loc[filt_women_age, \"DMDMARTL\"].value_counts()</code><br />\n",
    "    <code></code><br />\n",
    "    <code>filt_men_age = filt_all_age & (df[\"RIAGENDR\"] == 1)</code><br />\n",
    "    <code>men_only_age = df.loc[filt_men_age, \"DMDMARTL\"].value_counts()</code><br />\n",
    "    <ol>\n",
    "        <li>Among women, the number of divorced, widowed, and separated persons are higher. The number of married people is lower. The remaining martial statuses are similar between women and men.</li>\n",
    "        <li>Compared with the overall population of women, women aged 30 to 40 were more likely to report living with a partner, being married, and not being married. Women of this age are less likely to be divorced and widowed.</li>\n",
    "        <li>Compared to the total population of men, men between the ages of 30 and 40 were less likely to report being divorced or widowed. In contrast, they are more likely to live with their partner and less likely to be married.</li>\n",
    "</p>\n",
    "</details>"
   ]
  },
  {
   "cell_type": "markdown",
   "id": "fd1ee04c",
   "metadata": {},
   "source": [
    "## Task 2\n",
    "\n",
    "Restricting to the female population, stratify the subjects into age bands no wider than ten years (beginning at 20, ending at 80 years), and construct the distribution of marital status within each age band.  Within each age band, present the distribution in terms of proportions that must sum to 1."
   ]
  },
  {
   "cell_type": "code",
   "execution_count": null,
   "id": "80dff107",
   "metadata": {
    "scrolled": false
   },
   "outputs": [],
   "source": [
    "# START YOUR CODE HERE.\n"
   ]
  },
  {
   "cell_type": "markdown",
   "id": "25305edf",
   "metadata": {},
   "source": [
    "__2a.__ Comment on the trends that you see in this series of marginal distributions."
   ]
  },
  {
   "cell_type": "markdown",
   "id": "964f64c9",
   "metadata": {},
   "source": [
    "*ENTER YOUR ANSWER HERE.*"
   ]
  },
  {
   "cell_type": "markdown",
   "id": "92632eed",
   "metadata": {},
   "source": [
    "__2b.__ Repeat the construction for males."
   ]
  },
  {
   "cell_type": "code",
   "execution_count": null,
   "id": "30b7e297",
   "metadata": {},
   "outputs": [],
   "source": [
    "# START YOUR CODE HERE.\n"
   ]
  },
  {
   "cell_type": "markdown",
   "id": "9e0ed524",
   "metadata": {},
   "source": [
    "__2c.__ Comment on any notable differences that you see when comparing these results for females and for males."
   ]
  },
  {
   "cell_type": "markdown",
   "id": "aded5578",
   "metadata": {},
   "source": [
    "*ENTER YOUR ANSWER HERE.*"
   ]
  },
  {
   "cell_type": "markdown",
   "id": "56afbd73",
   "metadata": {},
   "source": [
    "<details>    \n",
    "<summary>\n",
    "    <font size=\"3\" color=\"darkgreen\"><b>Sample Solution (click to expand)</b></font>\n",
    "</summary>\n",
    "<p>\n",
    "    <code>filt_women = (df[\"RIAGENDR\"] == 2)</code><br />\n",
    "    <code>female_only = df.loc[filt_women].copy()</code><br />\n",
    "    <code>female_only[\"age_groups\"] = pd.cut(female_only[\"RIDAGEYR\"], [20, 30, 40, 50, 60, 70, 80])</code><br />\n",
    "    <code></code><br />\n",
    "    <code>w_twenty_to_thirty = female_only.loc[female_only[\"age_groups\"] ==</code><br /> \n",
    "    <code>                                     pd.Interval(20, 30), \"DMDMARTL\"].value_counts(normalize = True)</code><br />\n",
    "    <code>w_thirty_to_fourty = female_only.loc[female_only[\"age_groups\"] ==</code><br /> \n",
    "    <code>                                     pd.Interval(30, 40), \"DMDMARTL\"].value_counts(normalize = True)</code><br />\n",
    "    <code>w_fourty_to_fifty = female_only.loc[female_only[\"age_groups\"] ==</code><br /> \n",
    "    <code>                                    pd.Interval(40, 50), \"DMDMARTL\"].value_counts(normalize = True)</code><br />\n",
    "    <code>w_fifty_to_sixty = female_only.loc[female_only[\"age_groups\"] ==</code><br /> \n",
    "    <code>                                   pd.Interval(50, 60), \"DMDMARTL\"].value_counts(normalize = True)</code><br />\n",
    "    <code>w_sixty_to_seventy = female_only.loc[female_only[\"age_groups\"] ==</code><br /> \n",
    "    <code>                                     pd.Interval(60, 70), \"DMDMARTL\"].value_counts(normalize = True)</code><br />\n",
    "    <code>w_seventy_to_eighty = female_only.loc[female_only[\"age_groups\"] ==</code><br /> \n",
    "    <code>                                      pd.Interval(70, 80), \"DMDMARTL\"].value_counts(normalize = True)</code><br /><br />\n",
    "    The proportion of married women increases up to age 50 and then decreases again. By comparison, the proportion of divorced women rises to the age of 70 and then falls. The proportion of widowed women rises steadily and takes a significant share beginning at the age of 60. The proportion of women living with a partner decreases steadily between the ages of 20 and 80.<br /><br />\n",
    "    <code>filt_men = (df[\"RIAGENDR\"] == 1)</code><br />\n",
    "    <code>men_only = df.loc[filt_men].copy()</code><br />\n",
    "    <code>men_only[\"age_groups\"] = pd.cut(men_only[\"RIDAGEYR\"], [20, 30, 40, 50, 60, 70, 80])</code><br />\n",
    "    <code></code><br />\n",
    "    <code>m_twenty_to_thirty = men_only.loc[men_only[\"age_groups\"] ==</code><br /> \n",
    "    <code>                                     pd.Interval(20, 30), \"DMDMARTL\"].value_counts(normalize = True)</code><br />\n",
    "    <code>m_thirty_to_fourty = men_only.loc[men_only[\"age_groups\"] ==</code><br /> \n",
    "    <code>                                     pd.Interval(30, 40), \"DMDMARTL\"].value_counts(normalize = True)</code><br />\n",
    "    <code>m_fourty_to_fifty = men_only.loc[men_only[\"age_groups\"] ==</code><br /> \n",
    "    <code>                                    pd.Interval(40, 50), \"DMDMARTL\"].value_counts(normalize = True)</code><br />\n",
    "    <code>m_fifty_to_sixty = men_only.loc[men_only[\"age_groups\"] ==</code><br /> \n",
    "    <code>                                   pd.Interval(50, 60), \"DMDMARTL\"].value_counts(normalize = True)</code><br />\n",
    "    <code>m_sixty_to_seventy = men_only.loc[men_only[\"age_groups\"] ==</code><br /> \n",
    "    <code>                                     pd.Interval(60, 70), \"DMDMARTL\"].value_counts(normalize = True)</code><br />\n",
    "    <code>m_seventy_to_eighty = men_only.loc[men_only[\"age_groups\"] ==</code><br /> \n",
    "    <code>                                  pd.Interval(70, 80), \"DMDMARTL\"].value_counts(normalize = True)</code><br /><br />\n",
    "    Overall, a more significant proportion of men appear to be married. Compared to women, the pattern differs concerning widowers. Here, there is only a very slight increase up to 70; from the age of 70, around 1/6 of men are widowers. \n",
    "</p>\n",
    "</details>"
   ]
  },
  {
   "cell_type": "markdown",
   "id": "7bb66ffa",
   "metadata": {},
   "source": [
    "## Task 3\n",
    "\n",
    "Construct a histogram of the distribution of heights using the BMXHT variable in the NHANES sample."
   ]
  },
  {
   "cell_type": "code",
   "execution_count": null,
   "id": "6cde05a3",
   "metadata": {
    "scrolled": true
   },
   "outputs": [],
   "source": [
    "# START YOUR CODE HERE.\n"
   ]
  },
  {
   "cell_type": "markdown",
   "id": "b5ed3337",
   "metadata": {},
   "source": [
    "__3a.__ Use the `bins` argument to [histplot](https://seaborn.pydata.org/generated/seaborn.histplot.html#seaborn.histplot) to produce histograms with different numbers of bins.  Assess whether the default value for this argument gives a meaningful result, and comment on what happens as the number of bins grows excessively large or excessively small. "
   ]
  },
  {
   "cell_type": "markdown",
   "id": "b3acfdaf",
   "metadata": {},
   "source": [
    "*ENTER YOUR ANSWER HERE.*"
   ]
  },
  {
   "cell_type": "markdown",
   "id": "ee098159",
   "metadata": {},
   "source": [
    "__3b.__ Make separate histograms for the heights of women and men, then make a side-by-side boxplot showing the heights of women and men."
   ]
  },
  {
   "cell_type": "code",
   "execution_count": null,
   "id": "c24a64c7",
   "metadata": {
    "scrolled": true
   },
   "outputs": [],
   "source": [
    "# START YOUR CODE HERE.\n"
   ]
  },
  {
   "cell_type": "markdown",
   "id": "8a4da4a7",
   "metadata": {},
   "source": [
    "__3c.__ Comment on what features, if any are not represented clearly in the boxplots, and what features, if any, are easier to see in the boxplots than in the histograms."
   ]
  },
  {
   "cell_type": "markdown",
   "id": "6b2bf956",
   "metadata": {},
   "source": [
    "*ENTER YOUR ANSWER HERE.*"
   ]
  },
  {
   "cell_type": "markdown",
   "id": "876a9bb4",
   "metadata": {},
   "source": [
    "<details>    \n",
    "<summary>\n",
    "    <font size=\"3\" color=\"darkgreen\"><b>Sample Solution (click to expand)</b></font>\n",
    "</summary>\n",
    "<p>\n",
    "    <code>sns.histplot(x = df[\"BMXHT\"]).set(title=\"Histogram of Heights\", xlabel = \"Height in cm\");</code><br />\n",
    "    <code>plt.show()</code><br /><br />\n",
    "    Usually, this function selects a suitable number of bins by default. In individual cases, however, it may be helpful to set the number manually. If the number of bins is chosen too small or too large, the characteristics of the underlying distribution will be lost more and more, in this case for example, the bell curve. If the number of bins is too small, the distribution approaches uniformity; small variations become too visible if the number of bins is too large.<br /><br />\n",
    "    <code>plt.figure(figsize = (15, 5))</code><br />\n",
    "    <code>plt.subplot(1, 3, 1)</code><br />\n",
    "    <code>sns.histplot(x = df.loc[(df[\"RIAGENDR\"] == 2), \"BMXHT\"]).set(title = \"Histogram of Heights (Women)\",</code><br /> \n",
    "    <code>                                                             xlabel = \"Height in cm\")</code><br />\n",
    "    <code>plt.subplot(1, 3, 2)</code><br />\n",
    "    <code>sns.histplot(x = df.loc[(df[\"RIAGENDR\"] == 1), \"BMXHT\"]).set(title = \"Histogram of Heights (Men)\",</code><br /> \n",
    "    <code>                                                             xlabel = \"Height in cm\")</code><br />\n",
    "    <code>plt.subplot(1, 3, 3)</code><br />\n",
    "    <code>sns.boxplot(x = df[\"RIAGENDR\"], y = df[\"BMXHT\"]).set(title = \"Boxplot of Heights\",</code><br /> \n",
    "    <code>                                                     xlabel = \"Gender (1: Men, 2: Women)\",</code><br /> \n",
    "    <code>                                                     ylabel = \"Height in cm\")</code><br />\n",
    "    <code>plt.show()</code><br /><br />\n",
    "    The underlying distribution is more difficult or impossible to identify. However, key figures such as the median can be seen directly, and outliers are displayed. \n",
    "</p>\n",
    "</details>"
   ]
  },
  {
   "cell_type": "markdown",
   "id": "288d693b",
   "metadata": {},
   "source": [
    "## Task 4\n",
    "\n",
    "Make a boxplot showing the distribution of within-subject differences between the first and second systolic blood pressure measurents ([BPXSY1](https://wwwn.cdc.gov/Nchs/Nhanes/2015-2016/BPX_I.htm#BPXSY1) and [BPXSY2](https://wwwn.cdc.gov/Nchs/Nhanes/2015-2016/BPX_I.htm#BPXSY2))."
   ]
  },
  {
   "cell_type": "code",
   "execution_count": null,
   "id": "3aa21220",
   "metadata": {},
   "outputs": [],
   "source": [
    "# START YOUR CODE HERE.\n"
   ]
  },
  {
   "cell_type": "markdown",
   "id": "f85e1487",
   "metadata": {},
   "source": [
    "__4a.__ What proportion of the subjects have a lower SBP on the second reading compared to the first?"
   ]
  },
  {
   "cell_type": "code",
   "execution_count": null,
   "id": "44a3f83a",
   "metadata": {},
   "outputs": [],
   "source": [
    "# START YOUR CODE HERE.\n"
   ]
  },
  {
   "cell_type": "markdown",
   "id": "9b71f9a4",
   "metadata": {},
   "source": [
    "__4b.__ Make side-by-side boxplots of the two systolic blood pressure variables."
   ]
  },
  {
   "cell_type": "code",
   "execution_count": null,
   "id": "4481cd45",
   "metadata": {},
   "outputs": [],
   "source": [
    "# START YOUR CODE HERE.\n"
   ]
  },
  {
   "cell_type": "markdown",
   "id": "93086ede",
   "metadata": {},
   "source": [
    "__4c.__ Comment on the variation within either the first or second systolic blood pressure measurements, and the variation in the within-subject differences between the first and second systolic blood pressure measurements."
   ]
  },
  {
   "cell_type": "markdown",
   "id": "a581d923",
   "metadata": {},
   "source": [
    "*ENTER YOUR ANSWER HERE.*"
   ]
  },
  {
   "cell_type": "markdown",
   "id": "8d5beb62",
   "metadata": {},
   "source": [
    "<details>    \n",
    "<summary>\n",
    "    <font size=\"3\" color=\"darkgreen\"><b>Sample Solution (click to expand)</b></font>\n",
    "</summary>\n",
    "<p>\n",
    "    <code>plt.figure(figsize = (3, 5))</code><br />\n",
    "    <code>sns.boxplot(y = df[\"BPXSY1\"] - df[\"BPXSY2\"]).set(</code><br />\n",
    "    <code>    title = \"Within subject differences concerning blood pressure\",</code><br />\n",
    "    <code>    ylabel = \"Blood pressure difference\");</code><br />\n",
    "    <code>plt.show()</code><br /><br />\n",
    "    <code>((df[\"BPXSY1\"] - df[\"BPXSY2\"]) > 0).value_counts(normalize = True).loc[True]</code><br /><br />\n",
    "    <code>sns.boxplot(data = df.loc[:, [\"BPXSY1\", \"BPXSY2\"]]).set(</code><br/>\n",
    "    <code>    title = \"Comparison between two blood pressure measurements\",</code><br/> \n",
    "    <code>    ylabel = \"Blood pressure\");</code><br/>\n",
    "    <code>plt.show()</code><br/><br />\n",
    "    <b>Variation within the first measurement</b>: 75% of the subjects had blood pressure between 115 and 130, with a median of about 120. The range is approximately 160, with only outliers toward the upper end of the scale.<br />\n",
    "    <b>Variation in within-subjects differences</b>: 75% of subjects show no change or no appreciable change in blood pressure, so the median is also 0. The range is approximately 60, with subjects deviating both downward and upward.\n",
    "</p>\n",
    "</details>"
   ]
  },
  {
   "cell_type": "markdown",
   "id": "933ea411",
   "metadata": {},
   "source": [
    "## Task 5\n",
    "\n",
    "Construct a frequency table of household sizes for people within each educational attainment category (the relevant variables are [DMDHHSIZ](https://wwwn.cdc.gov/Nchs/Nhanes/2015-2016/DEMO_I.htm#DMDHHSIZ) and [DMDEDUC2](https://wwwn.cdc.gov/Nchs/Nhanes/2015-2016/DEMO_I.htm#DMDEDUC2), skip level 9 for the educational attaintment category).  Convert the frequencies to proportions."
   ]
  },
  {
   "cell_type": "code",
   "execution_count": null,
   "id": "54713e6b",
   "metadata": {
    "scrolled": true
   },
   "outputs": [],
   "source": [
    "# START YOUR CODE HERE.\n"
   ]
  },
  {
   "cell_type": "markdown",
   "id": "97e6b4ea",
   "metadata": {},
   "source": [
    "__5a.__ Comment on any major differences among the distributions."
   ]
  },
  {
   "cell_type": "markdown",
   "id": "d05a56af",
   "metadata": {},
   "source": [
    "*ENTER YOUR ANSWER HERE.*"
   ]
  },
  {
   "cell_type": "markdown",
   "id": "ec80bf9b",
   "metadata": {},
   "source": [
    "__5b.__ Restrict the sample to people between 30 and 40 years of age.  Then calculate the median household size within each level of educational attainment (skip level 9)."
   ]
  },
  {
   "cell_type": "code",
   "execution_count": null,
   "id": "72e827ef",
   "metadata": {},
   "outputs": [],
   "source": [
    "# START YOUR CODE HERE.\n"
   ]
  },
  {
   "cell_type": "markdown",
   "id": "c093b19d",
   "metadata": {},
   "source": [
    "<details>    \n",
    "<summary>\n",
    "    <font size=\"3\" color=\"darkgreen\"><b>Sample Solution (click to expand)</b></font>\n",
    "</summary>\n",
    "<p>\n",
    "    <code>less_grade_9 = df.loc[(df[\"DMDEDUC2\"] == 1), \"DMDHHSIZ\"].value_counts(normalize = True)</code><br />\n",
    "    <code>grade_11 = df.loc[(df[\"DMDEDUC2\"] == 2), \"DMDHHSIZ\"].value_counts(normalize = True)</code><br />\n",
    "    <code>high_school = df.loc[(df[\"DMDEDUC2\"] == 3), \"DMDHHSIZ\"].value_counts(normalize = True)</code><br />\n",
    "    <code>aa_degree = df.loc[(df[\"DMDEDUC2\"] == 4), \"DMDHHSIZ\"].value_counts(normalize = True)</code><br />\n",
    "    <code>college_degree = df.loc[(df[\"DMDEDUC2\"] == 5), \"DMDHHSIZ\"].value_counts(normalize = True)</code><br /><br />\n",
    "    There are several response options here. For example, it is very common for college graduates to live in a two-person household compared to the other categories.<br /><br />\n",
    "    <code>filt_age = (df[\"RIDAGEYR\"] >= 30) & (df[\"RIDAGEYR\"] <= 40)</code><br />\n",
    "    <code>age_df = df.loc[filt_age, [\"DMDEDUC2\", \"DMDHHSIZ\"]]</code><br />\n",
    "    <code>med_hh_less_grade_9 = df.loc[(df[\"DMDEDUC2\"] == 1), \"DMDHHSIZ\"].median()</code><br />\n",
    "    <code>med_hh_grade_11 = df.loc[(df[\"DMDEDUC2\"] == 2), \"DMDHHSIZ\"].median()</code><br />\n",
    "    <code>med_hh_high_school = df.loc[(df[\"DMDEDUC2\"] == 3), \"DMDHHSIZ\"].median()</code><br />\n",
    "    <code>med_hh_aa_degree = df.loc[(df[\"DMDEDUC2\"] == 4), \"DMDHHSIZ\"].median()</code><br />\n",
    "    <code>med_hh_college_degree = df.loc[(df[\"DMDEDUC2\"] == 5), \"DMDHHSIZ\"].median()</code><br />\n",
    "</p>\n",
    "</details>"
   ]
  },
  {
   "cell_type": "markdown",
   "id": "5ffb172c",
   "metadata": {},
   "source": [
    "## Task 6\n",
    "\n",
    "Calculate the mean age ([RIDAGEYR](https://wwwn.cdc.gov/Nchs/Nhanes/2015-2016/DEMO_I.htm#RIDAGEYR)), height ([BMXHT](https://wwwn.cdc.gov/Nchs/Nhanes/2015-2016/BMX_I.htm#BMXHT)), and BMI ([BMXBMI](https://wwwn.cdc.gov/Nchs/Nhanes/2015-2016/BMX_I.htm#BMXBMI)) for each gender ([RIAGENDR](https://wwwn.cdc.gov/Nchs/Nhanes/2015-2016/DEMO_I.htm#RIAGENDR))."
   ]
  },
  {
   "cell_type": "code",
   "execution_count": null,
   "id": "dfeae293",
   "metadata": {},
   "outputs": [],
   "source": [
    "# START YOUR CODE HERE.\n"
   ]
  },
  {
   "cell_type": "markdown",
   "id": "0bd3bee5",
   "metadata": {},
   "source": [
    "__6a.__ Comment on the extent to which mean age, height, and BMI vary among gender."
   ]
  },
  {
   "cell_type": "markdown",
   "id": "b7c04516",
   "metadata": {},
   "source": [
    "*ENTER YOUR ANSWER HERE.*"
   ]
  },
  {
   "cell_type": "markdown",
   "id": "92087f3e",
   "metadata": {},
   "source": [
    "__6b.__ Calculate the inter-quartile range (IQR) for age, height, and BMI for each gender."
   ]
  },
  {
   "cell_type": "code",
   "execution_count": null,
   "id": "ace881a5",
   "metadata": {},
   "outputs": [],
   "source": [
    "# START YOUR CODE HERE.\n"
   ]
  },
  {
   "cell_type": "markdown",
   "id": "dd9923f6",
   "metadata": {},
   "source": [
    "__6c.__ Comment on the extent to which the IQR for age, height, and BMI vary among gender."
   ]
  },
  {
   "cell_type": "markdown",
   "id": "a28f8aaa",
   "metadata": {},
   "source": [
    "*ENTER YOUR ANSWER HERE.*"
   ]
  },
  {
   "cell_type": "markdown",
   "id": "24beebab",
   "metadata": {},
   "source": [
    "<details>    \n",
    "<summary>\n",
    "    <font size=\"3\" color=\"darkgreen\"><b>Sample Solution (click to expand)</b></font>\n",
    "</summary>\n",
    "<p>\n",
    "    <code>mean_age_women = df.loc[(df[\"RIAGENDR\"] == 2), \"RIDAGEYR\"].mean()</code><br />\n",
    "    <code>mean_age_men = df.loc[(df[\"RIAGENDR\"] == 1), \"RIDAGEYR\"].mean()</code><br />\n",
    "    <code>mean_height_women = df.loc[(df[\"RIAGENDR\"] == 2), \"BMXHT\"].mean()</code><br />\n",
    "    <code>mean_height_men = df.loc[(df[\"RIAGENDR\"] == 1), \"BMXHT\"].mean()</code><br />\n",
    "    <code>mean_bmi_women = df.loc[(df[\"RIAGENDR\"] == 2), \"BMXBMI\"].mean()</code><br />\n",
    "    <code>mean_bmi_men = df.loc[(df[\"RIAGENDR\"] == 1), \"BMXBMI\"].mean()</code><br /><br />\n",
    "    Concerning age and BMI, the differences seem to be marginal on average. In terms of height, it appears, as one would expect, that men are significantly taller on average.<br /><br />\n",
    "    <code>iqr_age_women = stats.iqr(df.loc[(df[\"RIAGENDR\"] == 2), \"RIDAGEYR\"], nan_policy=\"omit\")</code><br />\n",
    "    <code>iqr_age_men = stats.iqr(df.loc[(df[\"RIAGENDR\"] == 1), \"RIDAGEYR\"], nan_policy=\"omit\")</code><br />\n",
    "    <code>iqr_height_women = stats.iqr(df.loc[(df[\"RIAGENDR\"] == 2), \"BMXHT\"], nan_policy=\"omit\")</code><br />\n",
    "    <code>iqr_height_men = stats.iqr(df.loc[(df[\"RIAGENDR\"] == 1), \"BMXHT\"], nan_policy=\"omit\")</code><br />\n",
    "    <code>iqr_bmi_women = stats.iqr(df.loc[(df[\"RIAGENDR\"] == 2), \"BMXBMI\"], nan_policy=\"omit\")</code><br />\n",
    "    <code>iqr_bmi_men = stats.iqr(df.loc[(df[\"RIAGENDR\"] == 1), \"BMXBMI\"], nan_policy=\"omit\")</code><br /><br />\n",
    "    The IQRs for age and height are almost identical. Only the BMI values of the men seem to scatter less than those of the women.\n",
    "</p>\n",
    "</details>"
   ]
  }
 ],
 "metadata": {
  "kernelspec": {
   "display_name": "Python 3 (ipykernel)",
   "language": "python",
   "name": "python3"
  },
  "language_info": {
   "codemirror_mode": {
    "name": "ipython",
    "version": 3
   },
   "file_extension": ".py",
   "mimetype": "text/x-python",
   "name": "python",
   "nbconvert_exporter": "python",
   "pygments_lexer": "ipython3",
   "version": "3.8.9"
  }
 },
 "nbformat": 4,
 "nbformat_minor": 5
}
