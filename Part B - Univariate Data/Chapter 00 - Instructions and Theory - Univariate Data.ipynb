{
 "cells": [
  {
   "cell_type": "markdown",
   "id": "9bd53451",
   "metadata": {},
   "source": [
    "# Chapter 0 - Instructions and Theory - Univariate Data\n",
    "## Hey Techie,\n",
    "Welcome to the second part of this statistics and data visualization tutorial series. This part introduces you to techniques to analyze univariate data. After auditing the [course](https://www.coursera.org/learn/understanding-visualization-data), you may find the respective materials here: https://www.coursera.org/learn/understanding-visualization-data/home/week/2.   \n",
    "As you will see, also this part is divided into three units of meaning:\n",
    "1. You will watch videos and read materials that introduce you to essential concepts from a theoretical point of view.\n",
    "2. You will learn how to apply these concepts in Python.\n",
    "3. You can test your newly gained knowledge by solving practice tasks.   \n",
    "\n",
    "For unit one, we provide you with a template that you may use to take notes. This template can be found in this notebook. For unit two, you will find separate notebooks in this part's folder that you may work through. These notebooks are the same as the ones you find on Coursera. For section unit, we provide you with a notebook named *Chapter 99_Practice - Univariate Data*.   \n",
    "   \n",
    "*Unit 1*: 62 minutes   \n",
    "*Unit 2*: 76 minutes   \n",
    "*Unit 3*: 60 minutes   \n",
    "*Total*: **198 minutes**   \n",
    "   \n",
    "### IMPORTANT NOTE: This part covers some concepts that are not new to you. Whenever you feel like you know a specific topic very precisely, feel free to skip it. Otherwise, these parts are a great opportunity for recapitulation.\n",
    "\n",
    "#### Have fun! :-)   \n",
    "\n",
    "#### Credits\n",
    "Understanding and Visualizing Data with Python, University of Michigan (Coursera), https://www.coursera.org/learn/understanding-visualization-data\n",
    "   \n",
    "<hr style=\"border:2px solid gray\"> </hr>   \n",
    "   \n",
    "## Categorical Data: Tables, Bar Charts & Pie Charts\n",
    "[Link to the video](https://www.coursera.org/learn/understanding-visualization-data/lecture/6D3OJ/categorical-data-tables-bar-charts-pie-charts)"
   ]
  },
  {
   "cell_type": "markdown",
   "id": "bb1960da",
   "metadata": {},
   "source": [
    "Definition:\n",
    "\n",
    "* Categorical data represents characteristics or attributes that can be divided into groups (e.g., gender, color, type).\n",
    "\n",
    "Common Visualizations:\n",
    "\n",
    "* Tables: Summarize data using frequency or relative frequency.\n",
    "\n",
    "* Bar Charts: Represent categories on the x-axis and frequency or proportion on the y-axis. Bars do not touch.\n",
    "\n",
    "* Pie Charts: Show proportions as slices of a circle. Best for representing part-to-whole relationships.\n",
    "\n",
    "Key Points:\n",
    "\n",
    "* Bar charts are more flexible and generally clearer than pie charts.\n",
    "\n",
    "* Pie charts can be misleading if there are too many categories or similar proportions.\n",
    "\n"
   ]
  },
  {
   "cell_type": "markdown",
   "id": "dd3c2628",
   "metadata": {},
   "source": [
    "<hr style=\"border:2px solid gray\"> </hr>   \n",
    "   \n",
    "## Quantitative Data: Histograms   \n",
    "[Link to the video](https://www.coursera.org/learn/understanding-visualization-data/lecture/5VDec/quantitative-data-histograms)"
   ]
  },
  {
   "cell_type": "markdown",
   "id": "dcb4b452",
   "metadata": {},
   "source": [
    "Definition:\n",
    "\n",
    "* Quantitative data consists of numerical values that can be ordered or measured.\n",
    "\n",
    "Histogram Characteristics:\n",
    "\n",
    "* Displays the distribution of a numeric variable.\n",
    "\n",
    "* The x-axis shows intervals (bins), and the y-axis shows frequency.\n",
    "\n",
    "* Bars touch each other, indicating continuous data.\n",
    "\n",
    "Usage:\n",
    "\n",
    "* Identifies the shape of data distribution (e.g., symmetric, skewed).\n",
    "\n",
    "* Highlights central tendency, spread, and outliers.\n",
    "\n",
    "Key Points:\n",
    "\n",
    "* Choose an appropriate bin width to avoid misleading representation.\n",
    "\n",
    "* Compare histograms of different datasets using the same scale.\n",
    "\n"
   ]
  },
  {
   "cell_type": "markdown",
   "id": "143b2942",
   "metadata": {},
   "source": [
    "<hr style=\"border:2px solid gray\"> </hr>   \n",
    "   \n",
    "## Quantitative Data: Numerical Summaries  \n",
    "[Link to the video](https://www.coursera.org/learn/understanding-visualization-data/lecture/6W6DD/quantitative-data-numerical-summaries)"
   ]
  },
  {
   "cell_type": "markdown",
   "id": "048a460c",
   "metadata": {},
   "source": [
    "Measures of Central Tendency:\n",
    "\n",
    "* Mean: Average of the data points.\n",
    "\n",
    "* Median: Middle value when data is ordered.\n",
    "\n",
    "* Mode: Most frequent value.\n",
    "\n",
    "Measures of Spread:\n",
    "\n",
    "* Range: Difference between the maximum and minimum values.\n",
    "\n",
    "Variance: Average of the squared differences from the mean.\n",
    "\n",
    "Standard Deviation (SD): Square root of variance, showing data dispersion.\n",
    "\n",
    "Interquartile Range (IQR): Difference between the 75th (Q3) and 25th (Q1) percentiles.\n",
    "\n",
    "Key Points:\n",
    "\n",
    "Use the median for skewed data and the mean for symmetric data.\n",
    "\n",
    "High variance or SD indicates greater data dispersion."
   ]
  },
  {
   "cell_type": "markdown",
   "id": "38b0950d",
   "metadata": {},
   "source": [
    "<hr style=\"border:2px solid gray\"> </hr>   \n",
    "   \n",
    "## Standard Score (Empirical Rule)   \n",
    "[Link to the video](https://www.coursera.org/learn/understanding-visualization-data/lecture/NyfDS/standard-score-empirical-rule)"
   ]
  },
  {
   "cell_type": "markdown",
   "id": "6ea18860",
   "metadata": {},
   "source": [
    "* Take notes here.\n",
    "    * And here.\n",
    "* ...\n",
    "* ..."
   ]
  },
  {
   "cell_type": "markdown",
   "id": "53e1f480",
   "metadata": {},
   "source": [
    "<hr style=\"border:2px solid gray\"> </hr>   \n",
    "   \n",
    "## Quantitative Data: Boxplots   \n",
    "[Link to the video](https://www.coursera.org/learn/understanding-visualization-data/lecture/r0g2h/quantitative-data-boxplots)"
   ]
  },
  {
   "cell_type": "markdown",
   "id": "814d413b",
   "metadata": {},
   "source": [
    "* Take notes here.\n",
    "    * And here.\n",
    "* ...\n",
    "* ..."
   ]
  }
 ],
 "metadata": {
  "kernelspec": {
   "display_name": "Python 3 (ipykernel)",
   "language": "python",
   "name": "python3"
  },
  "language_info": {
   "codemirror_mode": {
    "name": "ipython",
    "version": 3
   },
   "file_extension": ".py",
   "mimetype": "text/x-python",
   "name": "python",
   "nbconvert_exporter": "python",
   "pygments_lexer": "ipython3",
   "version": "3.8.9"
  }
 },
 "nbformat": 4,
 "nbformat_minor": 5
}
