{
 "cells": [
  {
   "cell_type": "markdown",
   "id": "9bd53451",
   "metadata": {},
   "source": [
    "# Chapter 0 - Instructions and Theory - Introduction to Data\n"
   ]
  },
  {
   "cell_type": "markdown",
   "id": "dd3c2628",
   "metadata": {},
   "source": [
    "<hr style=\"border:2px solid gray\"> </hr>   \n",
    "   \n",
    "## Interview: Perspectives on Statistics in Real Life   \n",
    "[Link to the video](https://www.coursera.org/learn/understanding-visualization-data/lecture/K2loL/interview-perspectives-on-statistics-in-real-life)"
   ]
  },
  {
   "cell_type": "markdown",
   "id": "dcb4b452",
   "metadata": {},
   "source": [
    "* Real-world applications of statistics are crucial in various fields such as healthcare, finance, and social sciences.\n",
    "\n",
    "* Statistics help in making data-driven decisions and interpreting complex data.\n",
    "\n",
    "* Professionals use statistical methods to validate hypotheses and support evidence-based practices.\n",
    "\n",
    "* Understanding statistics improves critical thinking and problem-solving skills.\n",
    "\n"
   ]
  },
  {
   "cell_type": "markdown",
   "id": "143b2942",
   "metadata": {},
   "source": [
    "<hr style=\"border:2px solid gray\"> </hr>   \n",
    "   \n",
    "## Resource: This is Statistics  \n",
    "[Link to the reading](https://www.coursera.org/learn/understanding-visualization-data/supplement/vXilz/resource-this-is-statistics)"
   ]
  },
  {
   "cell_type": "markdown",
   "id": "048a460c",
   "metadata": {},
   "source": [
    "* Introduces fundamental concepts and the importance of statistics in daily life.\n",
    "\n",
    "* Emphasizes the role of statistics in research, analysis, and data interpretation.\n",
    "\n",
    "* Explains statistical literacy and its significance for informed decision-making.\n",
    "\n",
    "* Highlights the integration of statistics in modern technology and data science."
   ]
  },
  {
   "cell_type": "markdown",
   "id": "38b0950d",
   "metadata": {},
   "source": [
    "<hr style=\"border:2px solid gray\"> </hr>   \n",
    "   \n",
    "## Cool Stuff in Data   \n",
    "[Link to the video](https://www.coursera.org/learn/understanding-visualization-data/lecture/3AvEp/cool-stuff-in-data)"
   ]
  },
  {
   "cell_type": "markdown",
   "id": "6ea18860",
   "metadata": {},
   "source": [
    "* Explores intriguing and unexpected applications of data analysis.\n",
    "\n",
    "* Demonstrates how data visualization can reveal hidden patterns and insights.\n",
    "\n",
    "* Shows innovative use cases like data storytelling and interactive data maps.\n",
    "\n",
    "* Encourages creative thinking by showcasing unique datasets and visual interpretations.\n",
    "\n"
   ]
  },
  {
   "cell_type": "markdown",
   "id": "dd788d16",
   "metadata": {},
   "source": [
    "<hr style=\"border:2px solid gray\"> </hr>   \n",
    "   \n",
    "## Variable Types \n",
    "[Link to the video](https://www.coursera.org/learn/understanding-visualization-data/lecture/iDodZ/variable-types)"
   ]
  },
  {
   "cell_type": "markdown",
   "id": "c2cf6516",
   "metadata": {},
   "source": [
    "Variables represent data points collected for analysis.\n",
    "\n",
    "Types of variables include:\n",
    "\n",
    "Quantitative Variables: Numerical values (e.g., height, weight).\n",
    "\n",
    "Qualitative Variables: Categorical data (e.g., gender, color).\n",
    "\n",
    "\n",
    "Quantitative variables can be:\n",
    "\n",
    "Discrete: Countable values (e.g., number of students).\n",
    "\n",
    "Continuous: Measurable values within a range (e.g., temperature).\n",
    "\n",
    "\n",
    "Qualitative variables can be:\n",
    "\n",
    "Nominal: No inherent order (e.g., blood type).\n",
    "\n",
    "Ordinal: Ordered categories (e.g., satisfaction level).\n",
    "\n"
   ]
  },
  {
   "cell_type": "markdown",
   "id": "7d160a45",
   "metadata": {},
   "source": [
    "<hr style=\"border:2px solid gray\"> </hr>   \n",
    "   \n",
    "## Study Design   \n",
    "[Link to the video](https://www.coursera.org/learn/understanding-visualization-data/lecture/006Hf/study-design)"
   ]
  },
  {
   "cell_type": "markdown",
   "id": "8a96ef2f",
   "metadata": {},
   "source": [
    "\n",
    "The structure of a study determines how data is collected and analyzed.\n",
    "\n",
    "Types of study designs include:\n",
    "\n",
    "Observational Studies: Collect data without manipulating variables.\n",
    "\n",
    "Experimental Studies: Involve interventions to assess effects.\n",
    "\n",
    "Important concepts:\n",
    "\n",
    "Randomization: Reduces bias by randomly assigning subjects.\n",
    "\n",
    "Control Group: A baseline group to compare with the experimental group.\n",
    "\n",
    "Good study design improves the validity and reliability of results.\n",
    "\n"
   ]
  },
  {
   "cell_type": "markdown",
   "id": "61d42b1c",
   "metadata": {},
   "source": [
    "<hr style=\"border:2px solid gray\"> </hr>   \n",
    "   \n",
    "## Data Management and Manipulation   \n",
    "[Link to the reading](https://www.coursera.org/learn/understanding-visualization-data/supplement/jMi0B/data-management-and-manipulation)"
   ]
  },
  {
   "cell_type": "markdown",
   "id": "0881c6cd",
   "metadata": {},
   "source": [
    "\n",
    "Involves organizing, cleaning, and transforming data for analysis.\n",
    "\n",
    "Key steps:\n",
    "\n",
    "Data Cleaning: Handling missing values, correcting errors.\n",
    "\n",
    "Data Transformation: Normalizing, scaling, or encoding data.\n",
    "\n",
    "Data Integration: Merging data from multiple sources.\n",
    "\n",
    "Efficient data management improves accuracy and usability for analysis."
   ]
  }
 ],
 "metadata": {
  "kernelspec": {
   "display_name": "Python 3 (ipykernel)",
   "language": "python",
   "name": "python3"
  },
  "language_info": {
   "codemirror_mode": {
    "name": "ipython",
    "version": 3
   },
   "file_extension": ".py",
   "mimetype": "text/x-python",
   "name": "python",
   "nbconvert_exporter": "python",
   "pygments_lexer": "ipython3",
   "version": "3.8.9"
  }
 },
 "nbformat": 4,
 "nbformat_minor": 5
}
