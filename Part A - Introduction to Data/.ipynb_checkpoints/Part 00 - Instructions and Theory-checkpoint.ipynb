{
 "cells": [
  {
   "cell_type": "markdown",
   "id": "9bd53451",
   "metadata": {},
   "source": [
    "# Part 0 - Instructions and Theory\n",
    "## Hey Techie,\n",
    "Welcome to the first week of this statistics and data visualization tutorial series. This week serves as a kick-off to the field of statistics and data visualizations. After auditing the [course](https://www.coursera.org/learn/understanding-visualization-data), you may find the respective materials here: https://www.coursera.org/learn/understanding-visualization-data/home/week/1.   \n",
    "As you will see, every week is always divided into three sections:\n",
    "1. You will watch videos and read materials that introduce you to essential concepts from a theoretical point of view.\n",
    "2. You will learn how to apply these concepts in Python.\n",
    "3. You can test your newly gained knowledge by solving practice tasks.   \n",
    "\n",
    "For section one, we will always provide you with a template that you may use to take notes. This template is always found in the week's respective *Part 00 - Instructions and Theory* notebook. For section two, you will find separate notebooks in every week's folder that you may work through (i.e., in this case, from Part 01 up to Part 04). These notebooks are the same as the ones you find on Coursera. For section three, we will provide you with a notebook named *Part 99_Practice* for every week respectively.   \n",
    "   \n",
    "*Section 1*: 135 minutes   \n",
    "*Section 2*: 64 minutes   \n",
    "*Section 3*: 30 minutes   \n",
    "*Total*: **229 minutes**   \n",
    "   \n",
    "### IMPORTANT NOTE: This week covers some concepts that are not new to you. Whenever you feel like you know a specific topic very precisely, feel free to skip it. Otherwise, these parts are a great opportunity for recapitulation.\n",
    "\n",
    "#### Have fun! :-)   \n",
    "\n",
    "#### Credits\n",
    "Understanding and Visualizing Data with Python, University of Michigan (Coursera), https://www.coursera.org/learn/understanding-visualization-data\n",
    "   \n",
    "<hr style=\"border:2px solid gray\"> </hr>   \n",
    "   \n",
    "## What is Statistics?\n",
    "[Link to the video](https://www.coursera.org/learn/understanding-visualization-data/lecture/KeSCz/what-is-statistics)"
   ]
  },
  {
   "cell_type": "markdown",
   "id": "bb1960da",
   "metadata": {},
   "source": [
    "* Take notes here.\n",
    "    * And here.\n",
    "* ...\n",
    "* ..."
   ]
  },
  {
   "cell_type": "markdown",
   "id": "dd3c2628",
   "metadata": {},
   "source": [
    "<hr style=\"border:2px solid gray\"> </hr>   \n",
    "   \n",
    "## Interview: Perspectives on Statistics in Real Life   \n",
    "[Link to the video](https://www.coursera.org/learn/understanding-visualization-data/lecture/K2loL/interview-perspectives-on-statistics-in-real-life)"
   ]
  },
  {
   "cell_type": "markdown",
   "id": "dcb4b452",
   "metadata": {},
   "source": [
    "* Take notes here.\n",
    "    * And here.\n",
    "* ...\n",
    "* ..."
   ]
  },
  {
   "cell_type": "markdown",
   "id": "143b2942",
   "metadata": {},
   "source": [
    "<hr style=\"border:2px solid gray\"> </hr>   \n",
    "   \n",
    "## Resource: This is Statistics  \n",
    "[Link to the reading](https://www.coursera.org/learn/understanding-visualization-data/supplement/vXilz/resource-this-is-statistics)"
   ]
  },
  {
   "cell_type": "markdown",
   "id": "048a460c",
   "metadata": {},
   "source": [
    "* Take notes here.\n",
    "    * And here.\n",
    "* ...\n",
    "* ..."
   ]
  },
  {
   "cell_type": "markdown",
   "id": "38b0950d",
   "metadata": {},
   "source": [
    "<hr style=\"border:2px solid gray\"> </hr>   \n",
    "   \n",
    "## Cool Stuff in Data   \n",
    "[Link to the video](https://www.coursera.org/learn/understanding-visualization-data/lecture/3AvEp/cool-stuff-in-data)"
   ]
  },
  {
   "cell_type": "markdown",
   "id": "6ea18860",
   "metadata": {},
   "source": [
    "* Take notes here.\n",
    "    * And here.\n",
    "* ...\n",
    "* ..."
   ]
  },
  {
   "cell_type": "markdown",
   "id": "53e1f480",
   "metadata": {},
   "source": [
    "<hr style=\"border:2px solid gray\"> </hr>   \n",
    "   \n",
    "## Let's play with Data!   \n",
    "[Link to the reading](https://www.coursera.org/learn/understanding-visualization-data/supplement/6ztpg/lets-play-with-data)"
   ]
  },
  {
   "cell_type": "markdown",
   "id": "814d413b",
   "metadata": {},
   "source": [
    "* Take notes here.\n",
    "    * And here.\n",
    "* ...\n",
    "* ..."
   ]
  },
  {
   "cell_type": "markdown",
   "id": "7549070a",
   "metadata": {},
   "source": [
    "<hr style=\"border:2px solid gray\"> </hr>   \n",
    "   \n",
    "## Where Do Data Come From? \n",
    "[Link to the video](https://www.coursera.org/learn/understanding-visualization-data/lecture/9MRwF/where-do-data-come-from)"
   ]
  },
  {
   "cell_type": "markdown",
   "id": "685977d9",
   "metadata": {},
   "source": [
    "* Take notes here.\n",
    "    * And here.\n",
    "* ...\n",
    "* ..."
   ]
  },
  {
   "cell_type": "markdown",
   "id": "dd788d16",
   "metadata": {},
   "source": [
    "<hr style=\"border:2px solid gray\"> </hr>   \n",
    "   \n",
    "## Variable Types \n",
    "[Link to the video](https://www.coursera.org/learn/understanding-visualization-data/lecture/iDodZ/variable-types)"
   ]
  },
  {
   "cell_type": "markdown",
   "id": "c2cf6516",
   "metadata": {},
   "source": [
    "* Take notes here.\n",
    "    * And here.\n",
    "* ...\n",
    "* ..."
   ]
  },
  {
   "cell_type": "markdown",
   "id": "7d160a45",
   "metadata": {},
   "source": [
    "<hr style=\"border:2px solid gray\"> </hr>   \n",
    "   \n",
    "## Study Design   \n",
    "[Link to the video](https://www.coursera.org/learn/understanding-visualization-data/lecture/006Hf/study-design)"
   ]
  },
  {
   "cell_type": "markdown",
   "id": "8a96ef2f",
   "metadata": {},
   "source": [
    "* Take notes here.\n",
    "    * And here.\n",
    "* ...\n",
    "* ..."
   ]
  },
  {
   "cell_type": "markdown",
   "id": "61d42b1c",
   "metadata": {},
   "source": [
    "<hr style=\"border:2px solid gray\"> </hr>   \n",
    "   \n",
    "## Data Management and Manipulation   \n",
    "[Link to the reading](https://www.coursera.org/learn/understanding-visualization-data/supplement/jMi0B/data-management-and-manipulation)"
   ]
  },
  {
   "cell_type": "markdown",
   "id": "0881c6cd",
   "metadata": {},
   "source": [
    "* Take notes here.\n",
    "    * And here.\n",
    "* ...\n",
    "* ..."
   ]
  }
 ],
 "metadata": {
  "kernelspec": {
   "display_name": "Python 3 (ipykernel)",
   "language": "python",
   "name": "python3"
  },
  "language_info": {
   "codemirror_mode": {
    "name": "ipython",
    "version": 3
   },
   "file_extension": ".py",
   "mimetype": "text/x-python",
   "name": "python",
   "nbconvert_exporter": "python",
   "pygments_lexer": "ipython3",
   "version": "3.8.9"
  }
 },
 "nbformat": 4,
 "nbformat_minor": 5
}
