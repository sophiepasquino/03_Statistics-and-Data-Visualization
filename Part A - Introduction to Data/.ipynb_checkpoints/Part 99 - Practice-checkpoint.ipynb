{
 "cells": [
  {
   "cell_type": "markdown",
   "id": "28b3b550",
   "metadata": {},
   "source": [
    "# Part 99 - Practice\n",
    "## Hey Techie,\n",
    "Welcome to the first week's practice notebook. In the following two practice tasks shall allow you to strengthen your knowledge regarding variable types in statistics.   \n",
    "\n",
    "### Have fun! :-)\n",
    "   \n",
    "<hr style=\"border:2px solid gray\"> </hr> \n",
    "\n",
    "### Task 1   \n",
    "Take [this quiz](https://www.med.soton.ac.uk/stats_eLearning/typesofdataquiz/index.html) and try to score at least **28 points**."
   ]
  },
  {
   "cell_type": "markdown",
   "id": "a5c81a97",
   "metadata": {},
   "source": [
    "### Task 2   \n",
    "Please define the terms **qualitative**, **quantitative**, **nominal**, **ordinal**, **continuous**, and **discrete**."
   ]
  },
  {
   "cell_type": "markdown",
   "id": "1a8e024d",
   "metadata": {},
   "source": [
    "**Qualitative**: *ENTER YOUR DEFINITION HERE*."
   ]
  },
  {
   "cell_type": "markdown",
   "id": "50b4f9e1",
   "metadata": {},
   "source": [
    "**Quantitative**: *ENTER YOUR DEFINITION HERE*."
   ]
  },
  {
   "cell_type": "markdown",
   "id": "1824c440",
   "metadata": {},
   "source": [
    "**Nominal**: *ENTER YOUR DEFINITION HERE*."
   ]
  },
  {
   "cell_type": "markdown",
   "id": "4576bd9e",
   "metadata": {},
   "source": [
    "**Ordinal**: *ENTER YOUR DEFINITION HERE*."
   ]
  },
  {
   "cell_type": "markdown",
   "id": "e760ab80",
   "metadata": {},
   "source": [
    "**Continuous**: *ENTER YOUR DEFINITION HERE*."
   ]
  },
  {
   "cell_type": "markdown",
   "id": "6be4f982",
   "metadata": {},
   "source": [
    "**Discrete**: *ENTER YOUR DEFINITION HERE*."
   ]
  },
  {
   "cell_type": "markdown",
   "id": "06ffa63c",
   "metadata": {},
   "source": [
    "<details>    \n",
    "<summary>\n",
    "    <font size=\"3\" color=\"darkgreen\"><b>Sample Solution (click to expand)</b></font>\n",
    "</summary>\n",
    "<p>\n",
    "    <b>Qualitative</b>: Qualitative variables cluster entities into different distinct groups. Usually, arithmetic operations are not applicable to qualitative data. If we use the example of a big tech company, its name (i.e., Google) is considered to be a qualitative variable. The name can distinguish between different big tech companies, but there are no arithmetic operations to apply to it.<br/>\n",
    "    <br />\n",
    "    <b>Quantitative</b>: Quantitative data instead describe entities' quantities in greater detail. Therefore, arithmetic operations are applicable to them usually. In case of a big tech company, a quantitative variable might be their amount of users every day.<br />\n",
    "    <br />\n",
    "    <b>Nominal</b>: This term refers to a specific type of qualitative data. In this case, the different groups entities can be assigned to do not have any order or natural ranking. Therefore, big tech companies' names are nominal qualitative data as one cannot apply a ranking.<br />\n",
    "    <br />\n",
    "    <b>Ordinal</b>: This term also refers to a specific type of qualitative data. Ordinal qualitative data have an order or ranking. In the case of our big tech company example, the different software engineering levels can be seen as ordinal qualitative data. Overall, one can belong to nine different levels (<a href=\"https://careerkarma.com/blog/software-engineering-salary-google\"/>see here for more details</a>) that represent a hierarchy.<br />\n",
    "    <br />\n",
    "    <b>Continuous</b>: Continuous variables are a particular form of quantitative variables. They are characterized by the fact that they can, in principle, take any value within a certain interval. In the case of a big tech company, for example, revenue is a continuous quantitative variable.<br />\n",
    "    <br />\n",
    "    <b>Discrete</b>: Discrete variables are a second subtype of quantitative variables. Discrete quantitative variables are all variables that are (in)finitely countable. For example, in the case of a big tech company, the number of sites is a discrete quantitative variable.\n",
    "</p>\n",
    "</details>"
   ]
  }
 ],
 "metadata": {
  "kernelspec": {
   "display_name": "Python 3 (ipykernel)",
   "language": "python",
   "name": "python3"
  },
  "language_info": {
   "codemirror_mode": {
    "name": "ipython",
    "version": 3
   },
   "file_extension": ".py",
   "mimetype": "text/x-python",
   "name": "python",
   "nbconvert_exporter": "python",
   "pygments_lexer": "ipython3",
   "version": "3.8.9"
  }
 },
 "nbformat": 4,
 "nbformat_minor": 5
}
