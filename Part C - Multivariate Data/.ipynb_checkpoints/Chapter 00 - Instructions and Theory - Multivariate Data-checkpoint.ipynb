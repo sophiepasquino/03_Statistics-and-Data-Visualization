{
 "cells": [
  {
   "cell_type": "code",
   "execution_count": null,
   "id": "83f7ac6a",
   "metadata": {},
   "outputs": [],
   "source": [
    "# RUN THIS COMMAND ONLY IF YOU USE GOOGLE COLAB.\n",
    "from google.colab import drive\n",
    "drive.mount('/content/drive')"
   ]
  },
  {
   "cell_type": "code",
   "execution_count": null,
   "id": "b113a0ac",
   "metadata": {},
   "outputs": [],
   "source": [
    "# RUN THIS COMMAND ONLY IF YOU USE GOOGLE COLAB.\n",
    "%cd drive/MyDrive/TechLabs/03_Statistics\\ and\\ Data\\ Visualization/Part\\ B\\ -\\ Multivariate\\ Data"
   ]
  },
  {
   "cell_type": "markdown",
   "id": "9bd53451",
   "metadata": {},
   "source": [
    "# Chapter 0 - Instructions and Theory - Multivariate Data\n",
    "## Hey Techie,\n",
    "Welcome to the third part of this statistics and data visualization tutorial series. This part introduces you to techniques to analyze multivariate data. After auditing the [course](https://www.coursera.org/learn/understanding-visualization-data), you may find the respective materials here: https://www.coursera.org/learn/understanding-visualization-data/home/week/3.   \n",
    "As you will see, also this part is divided into units of meaning:\n",
    "1. You will watch videos and read materials that introduce you to essential concepts from a theoretical point of view.\n",
    "2. You will learn how to apply these concepts in Python.\n",
    "3. You can test your newly gained knowledge by solving practice tasks.   \n",
    "\n",
    "For unit one, we provide you with a template that you may use to take notes. This template can be found in this notebook. For unit two, you will find separate notebooks in this part's folder that you may work through. These notebooks are the same as the ones you find on Coursera. For unit three, we provide you with a notebook named *Chapter 99 - Practice - Multivariate Data*.   \n",
    "   \n",
    "*Unit 1*: 38 minutes   \n",
    "*Unit 2*: 57 minutes   \n",
    "*Unit 3*: 60 minutes   \n",
    "*Total*: **155 minutes**   \n",
    "\n",
    "### IMPORTANT NOTE: This part covers some concepts that are not new to you. Whenever you feel like you know a specific topic very precisely, feel free to skip it. Otherwise, these parts are a great opportunity for recapitulation.\n",
    "\n",
    "#### Have fun! :-)   \n",
    "\n",
    "#### Credits\n",
    "Understanding and Visualizing Data with Python, University of Michigan (Coursera), https://www.coursera.org/learn/understanding-visualization-data\n",
    "   \n",
    "<hr style=\"border:2px solid gray\"> </hr>   \n",
    "   \n",
    "## Looking at Associations with Multivariate Categorical Data\n",
    "[Link to the video](https://www.coursera.org/learn/understanding-visualization-data/lecture/zrN6H/looking-at-associations-with-multivariate-categorical-data)"
   ]
  },
  {
   "cell_type": "markdown",
   "id": "bb1960da",
   "metadata": {},
   "source": [
    "* Take notes here.\n",
    "    * And here.\n",
    "* ...\n",
    "* ..."
   ]
  },
  {
   "cell_type": "markdown",
   "id": "dd3c2628",
   "metadata": {},
   "source": [
    "<hr style=\"border:2px solid gray\"> </hr>   \n",
    "   \n",
    "## Looking at Associations with Multivariate Quantitative Data\n",
    "[Link to the video](https://www.coursera.org/learn/understanding-visualization-data/lecture/WYrus/looking-at-associations-with-multivariate-quantitative-data)"
   ]
  },
  {
   "cell_type": "markdown",
   "id": "dcb4b452",
   "metadata": {},
   "source": [
    "* Take notes here.\n",
    "    * And here.\n",
    "* ...\n",
    "* ..."
   ]
  },
  {
   "cell_type": "markdown",
   "id": "143b2942",
   "metadata": {},
   "source": [
    "<hr style=\"border:2px solid gray\"> </hr>   \n",
    "   \n",
    "## Demo: Interactive Scatterplot \n",
    "[Link to the video](https://www.coursera.org/learn/understanding-visualization-data/lecture/Sa73y/demo-interactive-scatterplot)"
   ]
  },
  {
   "cell_type": "markdown",
   "id": "048a460c",
   "metadata": {},
   "source": [
    "* Take notes here.\n",
    "    * And here.\n",
    "* ...\n",
    "* ..."
   ]
  },
  {
   "cell_type": "markdown",
   "id": "38b0950d",
   "metadata": {},
   "source": [
    "<hr style=\"border:2px solid gray\"> </hr>   \n",
    "   \n",
    "## Pitfall: Simpson's Paradox\n",
    "[Link to the reading](https://www.coursera.org/learn/understanding-visualization-data/supplement/aeDVU/pitfall-simpsons-paradox)"
   ]
  },
  {
   "cell_type": "markdown",
   "id": "6ea18860",
   "metadata": {},
   "source": [
    "* Take notes here.\n",
    "    * And here.\n",
    "* ...\n",
    "* ..."
   ]
  },
  {
   "cell_type": "markdown",
   "id": "53e1f480",
   "metadata": {},
   "source": [
    "<hr style=\"border:2px solid gray\"> </hr>   \n",
    "   \n",
    "## Modern Ways to Visualize Data\n",
    "[Link to the reading](https://www.coursera.org/learn/understanding-visualization-data/supplement/Vpr01/modern-ways-to-visualize-data)"
   ]
  },
  {
   "cell_type": "markdown",
   "id": "814d413b",
   "metadata": {},
   "source": [
    "* Take notes here.\n",
    "    * And here.\n",
    "* ...\n",
    "* ..."
   ]
  }
 ],
 "metadata": {
  "kernelspec": {
   "display_name": "Python 3 (ipykernel)",
   "language": "python",
   "name": "python3"
  },
  "language_info": {
   "codemirror_mode": {
    "name": "ipython",
    "version": 3
   },
   "file_extension": ".py",
   "mimetype": "text/x-python",
   "name": "python",
   "nbconvert_exporter": "python",
   "pygments_lexer": "ipython3",
   "version": "3.8.9"
  }
 },
 "nbformat": 4,
 "nbformat_minor": 5
}
