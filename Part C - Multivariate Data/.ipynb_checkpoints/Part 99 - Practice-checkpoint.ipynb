{
 "cells": [
  {
   "cell_type": "markdown",
   "metadata": {},
   "source": [
    "# Part 99 - Practice\n",
    "## Hey Techie,\n",
    "Welcome to the third week's practice notebook. In the following two practice task you can test your knowledge regarding analyzing and visualizing univariate data.   \n",
    "\n",
    "### Have fun! :-)\n",
    "\n",
    "#### Credits\n",
    "Understanding and Visualizing Data with Python, University of Michigan (Coursera), https://www.coursera.org/learn/understanding-visualization-data\n",
    "   \n",
    "<hr style=\"border:2px solid gray\"> </hr> "
   ]
  },
  {
   "cell_type": "code",
   "execution_count": null,
   "metadata": {},
   "outputs": [],
   "source": [
    "%matplotlib inline\n",
    "import matplotlib.pyplot as plt\n",
    "import seaborn as sns\n",
    "import pandas as pd\n",
    "import statsmodels.api as sm\n",
    "import numpy as np\n",
    "\n",
    "df = pd.read_csv(\"data/nhanes_2015_2016.csv\")"
   ]
  },
  {
   "cell_type": "markdown",
   "metadata": {},
   "source": [
    "## Task 1\n",
    "\n",
    "Make a scatterplot showing the relationship between the first and second measurements of diastolic blood pressure ([BPXDI1](https://wwwn.cdc.gov/Nchs/Nhanes/2015-2016/BPX_I.htm#BPXDI1) and [BPXDI2](https://wwwn.cdc.gov/Nchs/Nhanes/2015-2016/BPX_I.htm#BPXDI2)).  Also obtain the 4x4 matrix of correlation coefficients among the first two diastolic blood pressure measures and the first two systolic ([BPXSY1](https://wwwn.cdc.gov/Nchs/Nhanes/2015-2016/BPX_I.htm#BPXSY1), [BPXSY2](https://wwwn.cdc.gov/Nchs/Nhanes/2015-2016/BPX_I.htm#BPXSY2)) blood pressure measures."
   ]
  },
  {
   "cell_type": "code",
   "execution_count": null,
   "metadata": {},
   "outputs": [],
   "source": [
    "# START YOUR CODE HERE.\n"
   ]
  },
  {
   "cell_type": "markdown",
   "metadata": {},
   "source": [
    "__1a.__ How does the correlation between repeated measurements of diastolic blood pressure relate to the correlation between repeated measurements of systolic blood pressure?"
   ]
  },
  {
   "cell_type": "markdown",
   "metadata": {},
   "source": [
    "*ENTER YOUR ANSWER HERE.*"
   ]
  },
  {
   "cell_type": "markdown",
   "metadata": {},
   "source": [
    "__1b.__ Are the second systolic and second diastolic blood pressure measure more correlated or less correlated than the first systolic and first diastolic blood pressure measure?"
   ]
  },
  {
   "cell_type": "markdown",
   "metadata": {},
   "source": [
    "*ENTER YOUR ANSWER HERE.*"
   ]
  },
  {
   "cell_type": "markdown",
   "metadata": {},
   "source": [
    "<details>    \n",
    "<summary>\n",
    "    <font size=\"3\" color=\"darkgreen\"><b>Sample Solution (click to expand)</b></font>\n",
    "</summary>\n",
    "<p>\n",
    "    <code>sns.regplot(x=\"BPXDI1\", y=\"BPXDI2\", data=df, fit_reg=False, scatter_kws={\"alpha\": 0.2});</code><br />\n",
    "    <code>print(df.loc[:, [\"BPXDI1\", \"BPXDI2\", \"BPXSY1\", \"BPXSY2\"]].dropna().corr())</code><br />\n",
    "    <ol>\n",
    "        <li>The correlation for the two systolic blood pressure measurements (r = .96) exceeds the one for the two diastolic blood pressure measurements (r = .88).</li>\n",
    "        <li>They are less correlated (r = .32 vs. r = .30).</li>\n",
    "</p>\n",
    "</details>"
   ]
  },
  {
   "cell_type": "markdown",
   "metadata": {},
   "source": [
    "## Task 2\n",
    "\n",
    "Construct a grid of scatterplots between the first systolic and the first diastolic blood pressure measurement.  Stratify the plots by gender (rows, *RIAGENDR*) and by race/ethnicity groups (columns, *RIDRETH1*)."
   ]
  },
  {
   "cell_type": "code",
   "execution_count": null,
   "metadata": {},
   "outputs": [],
   "source": [
    "# START YOUR CODE HERE.\n"
   ]
  },
  {
   "cell_type": "markdown",
   "metadata": {},
   "source": [
    "__2a.__ Comment on the extent to which these two blood pressure variables are correlated to different degrees in different demographic subgroups."
   ]
  },
  {
   "cell_type": "markdown",
   "metadata": {},
   "source": [
    "*ENTER YOUR ANSWER HERE.*"
   ]
  },
  {
   "cell_type": "markdown",
   "metadata": {},
   "source": [
    "<details>    \n",
    "<summary>\n",
    "    <font size=\"3\" color=\"darkgreen\"><b>Sample Solution (click to expand)</b></font>\n",
    "</summary>\n",
    "<p>\n",
    "    <code>sns.FacetGrid(data=df, row=\"RIAGENDR\", col=\"RIDRETH1\").map(plt.scatter, \"BPXSY1\", \"BPXDI1\", alpha=0.5).add_legend();</code><br />\n",
    "    <ol><li>First, there is only a small relationship between the two blood pressure measurements for women and men for ethnicity group three. Second, there seems to be always at least a moderate relationship between the two blood pressure measurements for the other ethnicity groups.</li></ol>\n",
    "</p>\n",
    "</details>"
   ]
  },
  {
   "cell_type": "markdown",
   "metadata": {},
   "source": [
    "## Task 3\n",
    "\n",
    "Use violin plots to compare the distributions of ages within groups defined by gender and educational attainment (skip level 9 for the educational attainment)."
   ]
  },
  {
   "cell_type": "code",
   "execution_count": null,
   "metadata": {},
   "outputs": [],
   "source": [
    "# START YOUR CODE HERE.\n"
   ]
  },
  {
   "cell_type": "markdown",
   "metadata": {},
   "source": [
    "__3a.__ Comment on any evident differences among the age distributions in the different demographic groups."
   ]
  },
  {
   "cell_type": "markdown",
   "metadata": {},
   "source": [
    "*ENTER YOUR ANSWER HERE.*"
   ]
  },
  {
   "cell_type": "markdown",
   "metadata": {},
   "source": [
    "<details>    \n",
    "<summary>\n",
    "    <font size=\"3\" color=\"darkgreen\"><b>Sample Solution (click to expand)</b></font>\n",
    "</summary>\n",
    "<p>\n",
    "    <code>filt = (df[\"DMDEDUC2\"] != 9)</code><br />\n",
    "    <code>df_filt = df.loc[filt, :]</code><br />\n",
    "    <code>sns.violinplot(x=df_filt[\"DMDEDUC2\"], y=df_filt[\"RIDAGEYR\"], hue=df_filt[\"RIAGENDR\"]);</code><br />\n",
    "    <ol><li>One possible answer could be that every educational attaintment group seems to have a lower average age than participants with less than a 9th-grade degree (level 1).</li></ol>\n",
    "</p>\n",
    "</details>"
   ]
  },
  {
   "cell_type": "markdown",
   "metadata": {},
   "source": [
    "## Task 4\n",
    "\n",
    "Use violin plots to compare the distributions of BMI within a series of 10-year age bands.  Also stratify these plots by gender."
   ]
  },
  {
   "cell_type": "code",
   "execution_count": null,
   "metadata": {},
   "outputs": [],
   "source": [
    "# START YOUR CODE HERE.\n"
   ]
  },
  {
   "cell_type": "markdown",
   "metadata": {},
   "source": [
    "__4a.__ Comment on the trends in BMI across the demographic groups."
   ]
  },
  {
   "cell_type": "markdown",
   "metadata": {},
   "source": [
    "*ENTER YOUR ANSWER HERE.*"
   ]
  },
  {
   "cell_type": "markdown",
   "metadata": {},
   "source": [
    "<details>    \n",
    "<summary>\n",
    "    <font size=\"3\" color=\"darkgreen\"><b>Sample Solution (click to expand)</b></font>\n",
    "</summary>\n",
    "<p>\n",
    "    <code>df[\"agegrp\"] = pd.cut(df[\"RIDAGEYR\"], [10, 20, 30, 40, 50, 60, 70, 80])</code><br />\n",
    "    <code>sns.violinplot(x=df[\"agegrp\"], y=df[\"BMXBMI\"], hue=df[\"RIAGENDR\"]);</code><br />\n",
    "    <ol><li>At first (group 10-19 compared to 20-29), the BMI increases slightly. Afterward, until age 70, it stays relatively stable. At ages 70-80, it decreases a bit (compared to groups 20-69).</li></ol>\n",
    "</p>\n",
    "</details>"
   ]
  },
  {
   "cell_type": "markdown",
   "metadata": {},
   "source": [
    "## Task 5\n",
    "\n",
    "Construct a frequency table for the joint distribution of ethnicity groups ([RIDRETH1](https://wwwn.cdc.gov/Nchs/Nhanes/2015-2016/DEMO_I.htm#RIDRETH1)) and health-insurance status ([HIQ210](https://wwwn.cdc.gov/Nchs/Nhanes/2015-2016/HIQ_I.htm#HIQ210)).  Normalize the results so that the values within each ethnic group are proportions that sum to 1. Therefore, do not forget to drop respective NaN values."
   ]
  },
  {
   "cell_type": "code",
   "execution_count": null,
   "metadata": {},
   "outputs": [],
   "source": [
    "# START YOUR CODE HERE.\n"
   ]
  },
  {
   "cell_type": "markdown",
   "metadata": {},
   "source": [
    "__5a.__ Which ethnic group has the highest rate of being uninsured in the past year?"
   ]
  },
  {
   "cell_type": "markdown",
   "metadata": {},
   "source": [
    "*ENTER YOUR ANSWER HERE.*"
   ]
  },
  {
   "cell_type": "markdown",
   "metadata": {},
   "source": [
    "<details>    \n",
    "<summary>\n",
    "    <font size=\"3\" color=\"darkgreen\"><b>Sample Solution (click to expand)</b></font>\n",
    "</summary>\n",
    "<p>\n",
    "    <code>df_filt = df[[\"HIQ210\", \"RIDRETH1\"]].dropna()</code><br />\n",
    "    <code>freq_table = df_filt.value_counts().unstack()/df_filt[\"RIDRETH1\"].value_counts()</code><br />\n",
    "    <code>freq_table.columns.name = \"RIDRETH1\"</code><br />\n",
    "    <code>freq_table</code><br />\n",
    "    <ol><li>Group 1 has the highest rate of being uninsured in the past year.</li></ol>\n",
    "</p>\n",
    "</details>"
   ]
  }
 ],
 "metadata": {
  "kernelspec": {
   "display_name": "Python 3 (ipykernel)",
   "language": "python",
   "name": "python3"
  },
  "language_info": {
   "codemirror_mode": {
    "name": "ipython",
    "version": 3
   },
   "file_extension": ".py",
   "mimetype": "text/x-python",
   "name": "python",
   "nbconvert_exporter": "python",
   "pygments_lexer": "ipython3",
   "version": "3.8.9"
  }
 },
 "nbformat": 4,
 "nbformat_minor": 2
}
