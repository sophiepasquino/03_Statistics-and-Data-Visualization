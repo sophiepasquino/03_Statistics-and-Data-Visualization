{
 "cells": [
  {
   "cell_type": "markdown",
   "id": "9bd53451",
   "metadata": {},
   "source": [
    "# Part 0 - Instructions and Theory\n",
    "## Hey Techie,\n",
    "Welcome to the third week of this statistics and data visualization tutorial series. This week introduces you to techniques to analyze multivariate data. After auditing the [course](https://www.coursera.org/learn/understanding-visualization-data), you may find the respective materials here: https://www.coursera.org/learn/understanding-visualization-data/home/week/3.   \n",
    "As you will see, also this week is divided into three sections:\n",
    "1. You will watch videos and read materials that introduce you to essential concepts from a theoretical point of view.\n",
    "2. You will learn how to apply these concepts in Python.\n",
    "3. You can test your newly gained knowledge by solving practice tasks.   \n",
    "\n",
    "For section one, we provide you with a template that you may use to take notes. This template can be found in this notebook. For section two, you will find separate notebooks in this week's folder that you may work through. These notebooks are the same as the ones you find on Coursera. For section three, we provide you with a notebook named *Part 99_Practice*.   \n",
    "   \n",
    "*Section 1*: 135 minutes   \n",
    "*Section 2*: 64 minutes   \n",
    "*Section 3*: 30 minutes   \n",
    "*Total*: **229 minutes**   \n",
    "\n",
    "### IMPORTANT NOTE: This week covers some concepts that are not new to you. Whenever you feel like you know a specific topic very precisely, feel free to skip it. Otherwise, these parts are a great opportunity for recapitulation.\n",
    "\n",
    "#### Have fun! :-)   \n",
    "\n",
    "#### Credits\n",
    "Understanding and Visualizing Data with Python, University of Michigan (Coursera), https://www.coursera.org/learn/understanding-visualization-data\n",
    "   \n",
    "<hr style=\"border:2px solid gray\"> </hr>   \n",
    "   \n",
    "## Looking at Associations with Multivariate Categorical Data\n",
    "[Link to the video](https://www.coursera.org/learn/understanding-visualization-data/lecture/zrN6H/looking-at-associations-with-multivariate-categorical-data)"
   ]
  },
  {
   "cell_type": "markdown",
   "id": "bb1960da",
   "metadata": {},
   "source": [
    "* Take notes here.\n",
    "    * And here.\n",
    "* ...\n",
    "* ..."
   ]
  },
  {
   "cell_type": "markdown",
   "id": "dd3c2628",
   "metadata": {},
   "source": [
    "<hr style=\"border:2px solid gray\"> </hr>   \n",
    "   \n",
    "## Looking at Associations with Multivariate Quantitative Data\n",
    "[Link to the video](https://www.coursera.org/learn/understanding-visualization-data/lecture/WYrus/looking-at-associations-with-multivariate-quantitative-data)"
   ]
  },
  {
   "cell_type": "markdown",
   "id": "dcb4b452",
   "metadata": {},
   "source": [
    "* Take notes here.\n",
    "    * And here.\n",
    "* ...\n",
    "* ..."
   ]
  },
  {
   "cell_type": "markdown",
   "id": "143b2942",
   "metadata": {},
   "source": [
    "<hr style=\"border:2px solid gray\"> </hr>   \n",
    "   \n",
    "## Demo: Interactive Scatterplot \n",
    "[Link to the video](https://www.coursera.org/learn/understanding-visualization-data/lecture/Sa73y/demo-interactive-scatterplot)"
   ]
  },
  {
   "cell_type": "markdown",
   "id": "048a460c",
   "metadata": {},
   "source": [
    "* Take notes here.\n",
    "    * And here.\n",
    "* ...\n",
    "* ..."
   ]
  },
  {
   "cell_type": "markdown",
   "id": "38b0950d",
   "metadata": {},
   "source": [
    "<hr style=\"border:2px solid gray\"> </hr>   \n",
    "   \n",
    "## Pitfall: Simpson's Paradox\n",
    "[Link to the reading](https://www.coursera.org/learn/understanding-visualization-data/supplement/aeDVU/pitfall-simpsons-paradox)"
   ]
  },
  {
   "cell_type": "markdown",
   "id": "6ea18860",
   "metadata": {},
   "source": [
    "* Take notes here.\n",
    "    * And here.\n",
    "* ...\n",
    "* ..."
   ]
  },
  {
   "cell_type": "markdown",
   "id": "53e1f480",
   "metadata": {},
   "source": [
    "<hr style=\"border:2px solid gray\"> </hr>   \n",
    "   \n",
    "## Modern Ways to Visualize Data\n",
    "[Link to the reading](https://www.coursera.org/learn/understanding-visualization-data/supplement/Vpr01/modern-ways-to-visualize-data)"
   ]
  },
  {
   "cell_type": "markdown",
   "id": "814d413b",
   "metadata": {},
   "source": [
    "* Take notes here.\n",
    "    * And here.\n",
    "* ...\n",
    "* ..."
   ]
  }
 ],
 "metadata": {
  "kernelspec": {
   "display_name": "Python 3 (ipykernel)",
   "language": "python",
   "name": "python3"
  },
  "language_info": {
   "codemirror_mode": {
    "name": "ipython",
    "version": 3
   },
   "file_extension": ".py",
   "mimetype": "text/x-python",
   "name": "python",
   "nbconvert_exporter": "python",
   "pygments_lexer": "ipython3",
   "version": "3.8.9"
  }
 },
 "nbformat": 4,
 "nbformat_minor": 5
}
