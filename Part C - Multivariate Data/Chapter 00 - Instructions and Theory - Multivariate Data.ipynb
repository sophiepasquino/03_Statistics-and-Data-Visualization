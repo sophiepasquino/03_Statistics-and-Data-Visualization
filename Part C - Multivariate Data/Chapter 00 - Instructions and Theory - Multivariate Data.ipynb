{
 "cells": [
  {
   "cell_type": "markdown",
   "id": "9bd53451",
   "metadata": {},
   "source": [
    "# Chapter 0 - Instructions and Theory - Multivariate Data\n",
    "\n",
    "Welcome to the third part of this statistics and data visualization tutorial series. This part introduces you to techniques to analyze multivariate data. After auditing the [course](https://www.coursera.org/learn/understanding-visualization-data), you may find the respective materials here: https://www.coursera.org/learn/understanding-visualization-data/home/week/3.   \n",
    "As you will see, also this part is divided into units of meaning:\n",
    "1. You will watch videos and read materials that introduce you to essential concepts from a theoretical point of view.\n",
    "2. You will learn how to apply these concepts in Python.\n",
    "3. You can test your newly gained knowledge by solving practice tasks.   \n",
    "\n",
    "For unit one, we provide you with a template that you may use to take notes. This template can be found in this notebook. For unit two, you will find separate notebooks in this part's folder that you may work through. These notebooks are the same as the ones you find on Coursera. For unit three, we provide you with a notebook named *Chapter 99 - Practice - Multivariate Data*.   \n",
    "   \n",
    "\n",
    "\n",
    "### IMPORTANT NOTE: This part covers some concepts that are not new to you. Whenever you feel like you know a specific topic very precisely, feel free to skip it. Otherwise, these parts are a great opportunity for recapitulation.\n",
    "\n",
    "\n",
    "\n",
    "#### Credits\n",
    "Understanding and Visualizing Data with Python, University of Michigan (Coursera), https://www.coursera.org/learn/understanding-visualization-data\n",
    "   \n",
    "<hr style=\"border:2px solid gray\"> </hr>   \n",
    "   \n",
    "## Looking at Associations with Multivariate Categorical Data\n",
    "[Link to the video](https://www.coursera.org/learn/understanding-visualization-data/lecture/zrN6H/looking-at-associations-with-multivariate-categorical-data)"
   ]
  },
  {
   "cell_type": "markdown",
   "id": "bb1960da",
   "metadata": {},
   "source": [
    "Definition:\n",
    "\n",
    "* Multivariate categorical data involves multiple categorical variables.\n",
    "\n",
    "* Analyzing associations helps identify relationships between these variables.\n",
    "\n",
    "Common Methods:\n",
    "\n",
    "* Contingency Tables: Show frequency distribution for combinations of categories.\n",
    "\n",
    "* Stacked/Clustered Bar Charts: Visualize relationships between two or more categorical variables.\n",
    "\n",
    "* Mosaic Plots: Represent the proportions of combinations of categorical variables.\n",
    "\n",
    "Key Points:\n",
    "\n",
    "* Look for patterns or discrepancies that might indicate associations.\n",
    "\n",
    "* Use Chi-Square tests to assess statistical significance."
   ]
  },
  {
   "cell_type": "markdown",
   "id": "dd3c2628",
   "metadata": {},
   "source": [
    "<hr style=\"border:2px solid gray\"> </hr>   \n",
    "   \n",
    "## Looking at Associations with Multivariate Quantitative Data\n",
    "[Link to the video](https://www.coursera.org/learn/understanding-visualization-data/lecture/WYrus/looking-at-associations-with-multivariate-quantitative-data)"
   ]
  },
  {
   "cell_type": "markdown",
   "id": "dcb4b452",
   "metadata": {},
   "source": [
    "Definition:\n",
    "\n",
    "* Involves relationships between multiple numerical variables.\n",
    "\n",
    "Common Methods:\n",
    "\n",
    "* Scatterplot Matrix: Visualizes pairwise relationships between several variables.\n",
    "\n",
    "* Correlation Matrix: Shows correlation coefficients between pairs of variables.\n",
    "\n",
    "* Multiple Regression: Models the relationship between one dependent variable and multiple independent variables.\n",
    "\n",
    "Key Points:\n",
    "\n",
    "* Check for linearity, outliers, and multicollinearity.\n",
    "\n",
    "* Use PCA (Principal Component Analysis) for dimensionality reduction when variables are highly correlated."
   ]
  },
  {
   "cell_type": "markdown",
   "id": "143b2942",
   "metadata": {},
   "source": [
    "<hr style=\"border:2px solid gray\"> </hr>   \n",
    "   \n",
    "## Demo: Interactive Scatterplot \n",
    "[Link to the video](https://www.coursera.org/learn/understanding-visualization-data/lecture/Sa73y/demo-interactive-scatterplot)"
   ]
  },
  {
   "cell_type": "markdown",
   "id": "048a460c",
   "metadata": {},
   "source": [
    "Definition:\n",
    "\n",
    "* An interactive scatterplot allows users to dynamically explore data points by hovering or clicking.\n",
    "\n",
    "Key Features:\n",
    "\n",
    "* Zooming, filtering, and highlighting specific data points.\n",
    "\n",
    "* Tooltips that display additional information.\n",
    "\n",
    "Use Cases:\n",
    "\n",
    "* Exploring correlations in multivariate datasets.\n",
    "\n",
    "* Identifying outliers and clusters in data.\n",
    "\n",
    "Key Points:\n",
    "\n",
    "* Useful for visualizing trends and patterns interactively.\n",
    "\n",
    "* Often created using libraries like Plotly, D3.js, or interactive Python packages like Bokeh.\n",
    "\n"
   ]
  },
  {
   "cell_type": "markdown",
   "id": "38b0950d",
   "metadata": {},
   "source": [
    "<hr style=\"border:2px solid gray\"> </hr>   \n",
    "   \n",
    "## Pitfall: Simpson's Paradox\n",
    "[Link to the reading](https://www.coursera.org/learn/understanding-visualization-data/supplement/aeDVU/pitfall-simpsons-paradox)"
   ]
  },
  {
   "cell_type": "markdown",
   "id": "6ea18860",
   "metadata": {},
   "source": [
    "\n",
    "Definition:\n",
    "\n",
    "* A trend appears in several groups of data but disappears or reverses when the groups are combined.\n",
    "\n",
    "Example:\n",
    "\n",
    "* A medication seems effective in separate age groups but ineffective when all ages are combined.\n",
    "\n",
    "Why It Occurs:\n",
    "\n",
    "* Often caused by lurking or confounding variables that affect the interpretation of results.\n",
    "\n",
    "Key Points:\n",
    "\n",
    "* Always check for hidden variables before drawing conclusions.\n",
    "\n",
    "* Use stratified analysis to control for confounding factors.\n",
    "\n"
   ]
  }
 ],
 "metadata": {
  "kernelspec": {
   "display_name": "Python 3 (ipykernel)",
   "language": "python",
   "name": "python3"
  },
  "language_info": {
   "codemirror_mode": {
    "name": "ipython",
    "version": 3
   },
   "file_extension": ".py",
   "mimetype": "text/x-python",
   "name": "python",
   "nbconvert_exporter": "python",
   "pygments_lexer": "ipython3",
   "version": "3.8.9"
  }
 },
 "nbformat": 4,
 "nbformat_minor": 5
}
